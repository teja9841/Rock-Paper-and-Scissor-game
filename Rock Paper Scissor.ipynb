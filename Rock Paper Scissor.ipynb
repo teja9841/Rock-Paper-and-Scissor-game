{
 "cells": [
  {
   "cell_type": "code",
   "execution_count": 1,
   "id": "8c64b422",
   "metadata": {},
   "outputs": [
    {
     "name": "stdout",
     "output_type": "stream",
     "text": [
      "please enter your name: Lucky\n",
      "please enter your name: Teja\n",
      "please choose one from: [rock,paper,scissor] : rock\n",
      "please choose one from: [rock,paper,scissor] : scissor\n",
      "Lucky wins\n"
     ]
    }
   ],
   "source": [
    "# Rock Paper and Scissor:\n",
    "\n",
    "a=input('please enter your name: ')\n",
    "b=input('please enter your name: ')\n",
    "p_1=input(\"please choose one from: [rock,paper,scissor] : \")\n",
    "p_2=input(\"please choose one from: [rock,paper,scissor] : \")\n",
    "if p_1=='rock' and p_2=='paper':\n",
    "    print('{} wins'.format(b))\n",
    "elif p_1=='rock' and p_2=='scissor':\n",
    "    print('{} wins'.format(a))\n",
    "elif p_1=='paper' and p_2=='scissor':\n",
    "    print('{} wins'.format(b))\n",
    "elif p_1=='paper' and p_2=='rock':\n",
    "    print('{} wins'.format(a))\n",
    "elif p_1=='scissor' and p_2=='rock':\n",
    "    print('{} wins'.format(b))\n",
    "elif p_1=='scissor' and p_2=='paper':\n",
    "    print('{} wins'.format(a))\n",
    "elif p_1=='rock' and p_2=='rock' or p_1=='paper' and p_2=='paper' or  p_1=='scissor' and p_2=='scissor':\n",
    "    print('{} and {} were draw'.format(a,b))\n",
    "else:\n",
    "    print(\"Think ther's spelling mistake or you have entered incorrect word, please check once?\")\n",
    "    print(\"Note: Enter all in the lowercase and check again.\")"
   ]
  },
  {
   "cell_type": "code",
   "execution_count": null,
   "id": "cc87673a",
   "metadata": {},
   "outputs": [],
   "source": []
  }
 ],
 "metadata": {
  "kernelspec": {
   "display_name": "Python 3 (ipykernel)",
   "language": "python",
   "name": "python3"
  },
  "language_info": {
   "codemirror_mode": {
    "name": "ipython",
    "version": 3
   },
   "file_extension": ".py",
   "mimetype": "text/x-python",
   "name": "python",
   "nbconvert_exporter": "python",
   "pygments_lexer": "ipython3",
   "version": "3.9.7"
  }
 },
 "nbformat": 4,
 "nbformat_minor": 5
}
